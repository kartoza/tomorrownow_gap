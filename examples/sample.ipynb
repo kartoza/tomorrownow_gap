{
 "cells": [
  {
   "cell_type": "code",
   "execution_count": 1,
   "id": "fdbc1b00-30f4-41eb-8505-d265736db428",
   "metadata": {},
   "outputs": [],
   "source": [
    "import requests\n",
    "from requests.auth import HTTPBasicAuth\n",
    "import time\n",
    "import xarray as xr\n",
    "import os\n",
    "\n",
    "\n",
    "def download_file(api_url, username, password, local_filename):\n",
    "    \"\"\"\n",
    "    Downloads a file from a GET API endpoint using Basic Authentication.\n",
    "\n",
    "    Parameters:\n",
    "        api_url (str): The API endpoint URL to download the file.\n",
    "        username (str): The username for Basic Authentication.\n",
    "        password (str): The password for Basic Authentication.\n",
    "        local_filename (str): The name to save the file locally.\n",
    "\n",
    "    Returns:\n",
    "        str: The path to the downloaded file.\n",
    "    \"\"\"\n",
    "    try:\n",
    "        # Start the timer\n",
    "        start_time = time.time()\n",
    "\n",
    "        # Perform the GET request with Basic Authentication\n",
    "        response = requests.get(api_url, auth=HTTPBasicAuth(username, password), stream=True)\n",
    "\n",
    "        # Stop the timer and calculate response time\n",
    "        response_time = time.time() - start_time\n",
    "\n",
    "        # Check if the request was successful\n",
    "        if response.status_code == 200:\n",
    "            # Write the content to a local file\n",
    "            with open(local_filename, 'wb') as file:\n",
    "                for chunk in response.iter_content(chunk_size=8192):  # Download in chunks\n",
    "                    file.write(chunk)\n",
    "\n",
    "            # Get the file size\n",
    "            file_size = os.path.getsize(local_filename)\n",
    "\n",
    "            print(f\"File successfully downloaded as '{local_filename}'\")\n",
    "            print(f\"Total response time: {response_time:.2f} seconds\")\n",
    "            print(f\"File size: {file_size / 1024:.2f} KB\")\n",
    "\n",
    "            return local_filename\n",
    "        else:\n",
    "            print(f\"Failed to download file. HTTP Status Code: {response.status_code}\")\n",
    "            print(\"Response:\", response.text)\n",
    "            return None\n",
    "    except Exception as e:\n",
    "        print(f\"An error occurred: {e}\")\n",
    "        return None"
   ]
  },
  {
   "cell_type": "code",
   "execution_count": null,
   "id": "3e83996a-a46a-42f2-a90b-f238f38ddaac",
   "metadata": {},
   "outputs": [],
   "source": [
    "# product type and attribute list can be viewed in\n",
    "# https://kartoza.github.io/tomorrownow_gap/developer/api/guide/measurement/#gap-input-data-table\n",
    "product = 'cbam_historical_analysis'\n",
    "# Define the attributes to fetch\n",
    "attribs = [\n",
    "    \"max_temperature\",\n",
    "    \"min_temperature\"\n",
    "]\n",
    "# start and end dates in format YYYY-MM-DD\n",
    "start_date = '2020-01-01'\n",
    "end_date = '2020-01-03'\n",
    "# available output type: json, csv, netcdf\n",
    "# Note that json output is only for single location query\n",
    "output_type = 'netcdf'\n",
    "# area bounding box (long min, lat min, long max, lat max)\n",
    "bbox = '33.9, -4.67, 41.89, 5.5'\n",
    "# for single point query, we can use lat and lon parameters\n",
    "# lat = '',\n",
    "# lon = ''\n",
    "# for custom polygon/bounding box, you can upload a shapefile and provides the location_name\n",
    "# location_name = ''"
   ]
  },
  {
   "cell_type": "code",
   "execution_count": 3,
   "id": "9b12ec27-0fc1-4b66-b993-f24de3266557",
   "metadata": {},
   "outputs": [],
   "source": [
    "# Construct the API URL\n",
    "api_url = (\n",
    "    f\"https://tngap.sta.do.kartoza.com/api/v1/measurement/?product={product}&\" +\n",
    "    \"attributes=\" + \",\".join(attribs) + \"&\" +\n",
    "    f\"start_date={start_date}&end_date={end_date}&output_type={output_type}&\"\n",
    "    f\"bbox={bbox}\"\n",
    ")"
   ]
  },
  {
   "cell_type": "code",
   "execution_count": 4,
   "id": "277d75af-38cb-4eb2-a0b6-a5a0f4eeb544",
   "metadata": {},
   "outputs": [],
   "source": [
    "# Set your username and password\n",
    "username = \"\"\n",
    "password = \"\""
   ]
  },
  {
   "cell_type": "code",
   "execution_count": 5,
   "id": "dd3bbee3-84b9-4b1b-8e7a-53a422d4e5b8",
   "metadata": {},
   "outputs": [],
   "source": [
    "# Set the output file path\n",
    "local_filename = \"data.nc\""
   ]
  },
  {
   "cell_type": "code",
   "execution_count": 6,
   "id": "e3abe4a3-e464-49a6-8b25-d4c24082768e",
   "metadata": {},
   "outputs": [
    {
     "name": "stdout",
     "output_type": "stream",
     "text": [
      "File successfully downloaded as 'data.nc'\n",
      "Total response time: 0.79 seconds\n",
      "File size: 1496.88 KB\n"
     ]
    },
    {
     "data": {
      "text/plain": [
       "'data.nc'"
      ]
     },
     "execution_count": 6,
     "metadata": {},
     "output_type": "execute_result"
    }
   ],
   "source": [
    "# Call the download file function\n",
    "download_file(api_url, username, password, local_filename)"
   ]
  },
  {
   "cell_type": "code",
   "execution_count": 7,
   "id": "dca0f686-f956-4aa1-9415-4965da6d39ff",
   "metadata": {},
   "outputs": [
    {
     "name": "stdout",
     "output_type": "stream",
     "text": [
      "Reading NetCDF file with xarray...\n",
      "<xarray.Dataset> Size: 2MB\n",
      "Dimensions:          (date: 3, lat: 285, lon: 222)\n",
      "Coordinates:\n",
      "  * date             (date) datetime64[ns] 24B 2020-01-01 2020-01-02 2020-01-03\n",
      "  * lat              (lat) float64 2kB -4.662 -4.626 -4.59 ... 5.418 5.454 5.489\n",
      "  * lon              (lon) float64 2kB 33.92 33.95 33.99 ... 41.8 41.84 41.87\n",
      "Data variables:\n",
      "    max_temperature  (date, lat, lon) float32 759kB ...\n",
      "    min_temperature  (date, lat, lon) float32 759kB ...\n",
      "Frozen({'max_temperature': <xarray.Variable (date: 3, lat: 285, lon: 222)> Size: 759kB\n",
      "[189810 values with dtype=float32]\n",
      "Attributes:\n",
      "    Description:  Maximum temperature (0000:2300)\n",
      "    Units:        Deg C, 'min_temperature': <xarray.Variable (date: 3, lat: 285, lon: 222)> Size: 759kB\n",
      "[189810 values with dtype=float32]\n",
      "Attributes:\n",
      "    Description:  Minimum temperature (0000:2300)\n",
      "    Units:        Deg C, 'date': <xarray.IndexVariable 'date' (date: 3)> Size: 24B\n",
      "array(['2020-01-01T00:00:00.000000000', '2020-01-02T00:00:00.000000000',\n",
      "       '2020-01-03T00:00:00.000000000'], dtype='datetime64[ns]'), 'lat': <xarray.IndexVariable 'lat' (lat: 285)> Size: 2kB\n",
      "array([-4.661803, -4.626059, -4.590316, ...,  5.417915,  5.453658,  5.489402])\n",
      "Attributes:\n",
      "    dtype:      float32\n",
      "    long_name:  Latitude\n",
      "    units:      degrees_north, 'lon': <xarray.IndexVariable 'lon' (lon: 222)> Size: 2kB\n",
      "array([33.915721, 33.951728, 33.987734, ..., 41.801108, 41.837114, 41.87312 ])\n",
      "Attributes:\n",
      "    dtype:      float32\n",
      "    long_name:  Longitude\n",
      "    units:      degrees_east})\n",
      "<xarray.DataArray 'max_temperature' (date: 3, lat: 285, lon: 222)> Size: 759kB\n",
      "[189810 values with dtype=float32]\n",
      "Coordinates:\n",
      "  * date     (date) datetime64[ns] 24B 2020-01-01 2020-01-02 2020-01-03\n",
      "  * lat      (lat) float64 2kB -4.662 -4.626 -4.59 -4.555 ... 5.418 5.454 5.489\n",
      "  * lon      (lon) float64 2kB 33.92 33.95 33.99 34.02 ... 41.8 41.84 41.87\n",
      "Attributes:\n",
      "    Description:  Maximum temperature (0000:2300)\n",
      "    Units:        Deg C\n"
     ]
    },
    {
     "data": {
      "image/png": "[encoded data removed]",
      "text/plain": [
       "<Figure size 640x480 with 1 Axes>"
      ]
     },
     "metadata": {},
     "output_type": "display_data"
    }
   ],
   "source": [
    "# Read the NetCDF file using xarray\n",
    "if os.path.exists(local_filename):\n",
    "    print(\"Reading NetCDF file with xarray...\")\n",
    "    ds = xr.open_dataset(local_filename)\n",
    "    print(ds)\n",
    "\n",
    "    print(ds.variables)  # List all variables\n",
    "    print(ds['max_temperature'])  # Access a specific variable\n",
    "    ds['max_temperature'].plot()  # Plot data (requires matplotlib)\n",
    "else:\n",
    "    print(\"Downloaded file not found in the filesystem.\")"
   ]
  }
 ],
 "metadata": {
  "kernelspec": {
   "display_name": "Python 3 (ipykernel)",
   "language": "python",
   "name": "python3"
  },
  "language_info": {
   "codemirror_mode": {
    "name": "ipython",
    "version": 3
   },
   "file_extension": ".py",
   "mimetype": "text/x-python",
   "name": "python",
   "nbconvert_exporter": "python",
   "pygments_lexer": "ipython3",
   "version": "3.12.3"
  }
 },
 "nbformat": 4,
 "nbformat_minor": 5
}
